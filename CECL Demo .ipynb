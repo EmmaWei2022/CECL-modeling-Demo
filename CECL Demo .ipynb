{
 "cells": [
  {
   "cell_type": "markdown",
   "id": "8fdb86ef",
   "metadata": {},
   "source": [
    "## CECL Model Demo\n",
    "\n",
    "- PD\n",
    "- LGD\n",
    "- EAD\n",
    "- CECL\n"
   ]
  },
  {
   "cell_type": "code",
   "execution_count": 7,
   "id": "370e7b2d",
   "metadata": {},
   "outputs": [],
   "source": [
    "import numpy as np\n",
    "import pandas as pd\n",
    "import seaborn as sb\n",
    "import seaborn as sns\n",
    "import matplotlib.pyplot as plt\n",
    "import sklearn\n",
    "from pandas import Series, DataFrame\n",
    "from pylab import rcParams\n",
    "from sklearn import preprocessing\n",
    "from sklearn.linear_model import LogisticRegression\n",
    "from sklearn.model_selection import train_test_split\n",
    "from sklearn import metrics \n",
    "from sklearn.metrics import classification_report\n",
    "from sklearn.metrics import confusion_matrix,accuracy_score"
   ]
  },
  {
   "cell_type": "markdown",
   "id": "9d8c5de6",
   "metadata": {},
   "source": [
    "### One year PD Modeling\n",
    "\n",
    "\n",
    "- Default definition and data preparation\n",
    "- Scorecard development\n",
    "- GLMs modeling\n"
   ]
  },
  {
   "cell_type": "code",
   "execution_count": 8,
   "id": "6e2971e8",
   "metadata": {},
   "outputs": [],
   "source": [
    "# Load oneyear_pd data\n",
    "oneyear_pd = pd.read_csv(\"oneyear_pd.csv\")"
   ]
  },
  {
   "cell_type": "code",
   "execution_count": 9,
   "id": "b43bda89",
   "metadata": {},
   "outputs": [
    {
     "name": "stdout",
     "output_type": "stream",
     "text": [
      "(25906, 44)\n",
      "        id  vintage_year  monthly_installment  loan_balance  bureau_score  \\\n",
      "0  6670001          2005               746.70     131304.44         541.0   \n",
      "1  9131199          2006               887.40     115486.51         441.0   \n",
      "2  4963167          2004              1008.50     128381.73         282.0   \n",
      "3  3918582          2005               458.23      35482.96         461.0   \n",
      "4  5949777          2006               431.20      77086.31         466.0   \n",
      "\n",
      "   num_bankrupt_iva  time_since_bankrupt  num_ccj  time_since_ccj  ccj_amount  \\\n",
      "0               0.0                  0.0      0.0             0.0         0.0   \n",
      "1               0.0                  0.0      0.0             0.0         0.0   \n",
      "2               0.0                  0.0      1.0            36.0       459.0   \n",
      "3               0.0                  0.0      0.0             0.0         0.0   \n",
      "4               0.0                  0.0      0.0             0.0         0.0   \n",
      "\n",
      "   ...  months_since_2mia  avg_mia_6m  max_arrears_bal_6m  max_mia_6m  \\\n",
      "0  ...                NaN         0.0               -42.0         0.0   \n",
      "1  ...                NaN         0.0                 0.0         0.0   \n",
      "2  ...                0.0         0.0              1198.0         2.0   \n",
      "3  ...                NaN         0.0              -114.0         0.0   \n",
      "4  ...                NaN         0.0                 0.0         0.0   \n",
      "\n",
      "  avg_bal_6m  avg_bureau_score_6m  cc_util annual_income emp_length  \\\n",
      "0   132080.0                542.0   0.4578         76749          3   \n",
      "1   116972.0                494.0   0.6299         78451         10   \n",
      "2   128500.0                290.0   0.6331         31038          3   \n",
      "3    36610.0                460.0   0.4990         56663          8   \n",
      "4    77518.0                468.0   0.9568         77014         10   \n",
      "\n",
      "  months_since_recent_cc_delinq  \n",
      "0                            11  \n",
      "1                             7  \n",
      "2                             6  \n",
      "3                             6  \n",
      "4                             3  \n",
      "\n",
      "[5 rows x 44 columns]\n",
      "<class 'pandas.core.frame.DataFrame'>\n",
      "RangeIndex: 25906 entries, 0 to 25905\n",
      "Data columns (total 44 columns):\n",
      " #   Column                         Non-Null Count  Dtype  \n",
      "---  ------                         --------------  -----  \n",
      " 0   id                             25906 non-null  int64  \n",
      " 1   vintage_year                   25906 non-null  int64  \n",
      " 2   monthly_installment            25906 non-null  float64\n",
      " 3   loan_balance                   25906 non-null  float64\n",
      " 4   bureau_score                   25473 non-null  float64\n",
      " 5   num_bankrupt_iva               25473 non-null  float64\n",
      " 6   time_since_bankrupt            25473 non-null  float64\n",
      " 7   num_ccj                        25473 non-null  float64\n",
      " 8   time_since_ccj                 25473 non-null  float64\n",
      " 9   ccj_amount                     25473 non-null  float64\n",
      " 10  num_bankrupt                   25473 non-null  float64\n",
      " 11  num_iva                        25473 non-null  float64\n",
      " 12  min_months_since_bankrupt      25473 non-null  float64\n",
      " 13  pl_flag                        25906 non-null  int64  \n",
      " 14  region                         25905 non-null  object \n",
      " 15  ltv                            25906 non-null  float64\n",
      " 16  arrears_months                 25906 non-null  float64\n",
      " 17  origination_date               25906 non-null  object \n",
      " 18  maturity_date                  25906 non-null  object \n",
      " 19  repayment_type                 25906 non-null  object \n",
      " 20  arrears_status                 25906 non-null  int64  \n",
      " 21  arrears_segment                25906 non-null  int64  \n",
      " 22  mob                            25906 non-null  int64  \n",
      " 23  remaining_mat                  25906 non-null  int64  \n",
      " 24  loan_term                      25906 non-null  int64  \n",
      " 25  live_status                    25906 non-null  int64  \n",
      " 26  repaid_status                  25906 non-null  int64  \n",
      " 27  month                          25906 non-null  int64  \n",
      " 28  arrears_event                  25906 non-null  int64  \n",
      " 29  bankrupt_event                 25906 non-null  int64  \n",
      " 30  term_expiry_event              25906 non-null  int64  \n",
      " 31  worst_arrears_status           25906 non-null  int64  \n",
      " 32  max_arrears_12m                25906 non-null  float64\n",
      " 33  recent_arrears_date            814 non-null    object \n",
      " 34  months_since_2mia              814 non-null    float64\n",
      " 35  avg_mia_6m                     25902 non-null  float64\n",
      " 36  max_arrears_bal_6m             25902 non-null  float64\n",
      " 37  max_mia_6m                     25902 non-null  float64\n",
      " 38  avg_bal_6m                     25902 non-null  float64\n",
      " 39  avg_bureau_score_6m            25515 non-null  float64\n",
      " 40  cc_util                        25906 non-null  float64\n",
      " 41  annual_income                  25906 non-null  int64  \n",
      " 42  emp_length                     25906 non-null  int64  \n",
      " 43  months_since_recent_cc_delinq  25906 non-null  int64  \n",
      "dtypes: float64(21), int64(18), object(5)\n",
      "memory usage: 8.7+ MB\n",
      "None\n",
      "                 id  vintage_year  monthly_installment   loan_balance  \\\n",
      "count  2.590600e+04  25906.000000         25906.000000   25906.000000   \n",
      "mean   5.533868e+06   2005.451401           558.759584   99355.147751   \n",
      "std    2.603951e+06      1.320182           312.430452   67746.919113   \n",
      "min    1.000104e+06   2001.000000             0.010000       0.180000   \n",
      "25%    3.258474e+06   2005.000000           373.200000   59141.695000   \n",
      "50%    5.565006e+06   2006.000000           503.200000   85676.755000   \n",
      "75%    7.801641e+06   2006.000000           679.052500  124149.960000   \n",
      "max    9.999931e+06   2015.000000          5181.400000  983843.660000   \n",
      "\n",
      "       bureau_score  num_bankrupt_iva  time_since_bankrupt       num_ccj  \\\n",
      "count  25473.000000      25473.000000         25473.000000  25473.000000   \n",
      "mean     391.556550          0.047187             2.350018      0.146901   \n",
      "std      110.129797          0.216985            11.328088      0.529897   \n",
      "min     -125.000000          0.000000             0.000000      0.000000   \n",
      "25%      307.000000          0.000000             0.000000      0.000000   \n",
      "50%      404.000000          0.000000             0.000000      0.000000   \n",
      "75%      484.000000          0.000000             0.000000      0.000000   \n",
      "max      702.000000          2.000000           120.000000     17.000000   \n",
      "\n",
      "       time_since_ccj    ccj_amount  ...  months_since_2mia    avg_mia_6m  \\\n",
      "count    25473.000000  2.547300e+04  ...         814.000000  25902.000000   \n",
      "mean         4.040828  6.396923e+02  ...           3.716216      0.055131   \n",
      "std         13.951740  1.577554e+04  ...           3.638229      0.327455   \n",
      "min          0.000000  0.000000e+00  ...           0.000000      0.000000   \n",
      "25%          0.000000  0.000000e+00  ...           0.000000      0.000000   \n",
      "50%          0.000000  0.000000e+00  ...           3.000000      0.000000   \n",
      "75%          0.000000  0.000000e+00  ...           7.000000      0.000000   \n",
      "max        120.000000  2.449929e+06  ...          11.000000      2.000000   \n",
      "\n",
      "       max_arrears_bal_6m    max_mia_6m     avg_bal_6m  avg_bureau_score_6m  \\\n",
      "count        25902.000000  25902.000000   25902.000000         25515.000000   \n",
      "mean         -4264.906030      0.133503  100177.697012           390.286733   \n",
      "std          24524.098698      0.499502   67689.984179           108.703833   \n",
      "min        -766984.000000      0.000000       0.000000           -70.000000   \n",
      "25%           -194.000000      0.000000   60015.000000           306.000000   \n",
      "50%              0.000000      0.000000   86521.000000           402.000000   \n",
      "75%              0.000000      0.000000  124956.500000           482.000000   \n",
      "max           5752.000000      4.000000  983836.000000           706.000000   \n",
      "\n",
      "           cc_util  annual_income    emp_length  months_since_recent_cc_delinq  \n",
      "count  25906.00000   25906.000000  25906.000000                   25906.000000  \n",
      "mean       0.49323   63745.315217      6.036285                       9.026133  \n",
      "std        0.18395   16711.447108      2.706258                       3.884838  \n",
      "min        0.15010   20053.000000      1.000000                       2.000000  \n",
      "25%        0.35570   52211.250000      4.000000                       6.000000  \n",
      "50%        0.48090   63729.500000      6.000000                       9.000000  \n",
      "75%        0.61550   75151.500000      8.000000                      12.000000  \n",
      "max        1.30480  135140.000000     12.000000                      20.000000  \n",
      "\n",
      "[8 rows x 39 columns]\n"
     ]
    }
   ],
   "source": [
    "# Data validation\n",
    "print(oneyear_pd.shape) # 25906 records\n",
    "print(oneyear_pd.head())\n",
    "print(oneyear_pd.info())\n",
    "print(oneyear_pd.describe())"
   ]
  },
  {
   "cell_type": "code",
   "execution_count": 10,
   "id": "d2d99fe4",
   "metadata": {},
   "outputs": [
    {
     "data": {
      "text/plain": [
       "id                                   0\n",
       "vintage_year                         0\n",
       "monthly_installment                  0\n",
       "loan_balance                         0\n",
       "bureau_score                       433\n",
       "num_bankrupt_iva                   433\n",
       "time_since_bankrupt                433\n",
       "num_ccj                            433\n",
       "time_since_ccj                     433\n",
       "ccj_amount                         433\n",
       "num_bankrupt                       433\n",
       "num_iva                            433\n",
       "min_months_since_bankrupt          433\n",
       "pl_flag                              0\n",
       "region                               1\n",
       "ltv                                  0\n",
       "arrears_months                       0\n",
       "origination_date                     0\n",
       "maturity_date                        0\n",
       "repayment_type                       0\n",
       "arrears_status                       0\n",
       "arrears_segment                      0\n",
       "mob                                  0\n",
       "remaining_mat                        0\n",
       "loan_term                            0\n",
       "live_status                          0\n",
       "repaid_status                        0\n",
       "month                                0\n",
       "arrears_event                        0\n",
       "bankrupt_event                       0\n",
       "term_expiry_event                    0\n",
       "worst_arrears_status                 0\n",
       "max_arrears_12m                      0\n",
       "recent_arrears_date              25092\n",
       "months_since_2mia                25092\n",
       "avg_mia_6m                           4\n",
       "max_arrears_bal_6m                   4\n",
       "max_mia_6m                           4\n",
       "avg_bal_6m                           4\n",
       "avg_bureau_score_6m                391\n",
       "cc_util                              0\n",
       "annual_income                        0\n",
       "emp_length                           0\n",
       "months_since_recent_cc_delinq        0\n",
       "dtype: int64"
      ]
     },
     "execution_count": 10,
     "metadata": {},
     "output_type": "execute_result"
    }
   ],
   "source": [
    "# Check missing values\n",
    "oneyear_pd.isnull().sum()"
   ]
  },
  {
   "cell_type": "markdown",
   "id": "e94baf16",
   "metadata": {},
   "source": [
    "### Scorecard Development\n",
    "- Default flag definition and data preparation\n",
    "1. Default is caused when arrears exceed 3 months (90 days overdue)\n",
    "2. Default flag is triggered when bankruptcy takes place.\n",
    "3. Term expiry indeicates that a facility passed its original maturity with a positive residual debt.\n",
    "\n",
    "- Univariate analysis\n",
    "- Multivariate analysis\n",
    "- Stepwise Regression\n",
    "\n"
   ]
  },
  {
   "cell_type": "code",
   "execution_count": 11,
   "id": "6403fcbf",
   "metadata": {},
   "outputs": [],
   "source": [
    "# Change dtype for 'origination_date'\n",
    "import datetime \n",
    "oneyear_pd['origination_date'] = pd.to_datetime(oneyear_pd['origination_date'], format='%Y-%m-%d')"
   ]
  },
  {
   "cell_type": "code",
   "execution_count": 12,
   "id": "9d5cdc3c",
   "metadata": {},
   "outputs": [
    {
     "data": {
      "text/plain": [
       "0       2005-09-14\n",
       "1       2006-01-20\n",
       "2       2004-12-21\n",
       "3       2005-06-21\n",
       "4       2006-07-19\n",
       "           ...    \n",
       "25901   2004-08-31\n",
       "25902   2005-04-29\n",
       "25903   2007-03-07\n",
       "25904   2006-01-13\n",
       "25905   2006-07-25\n",
       "Name: origination_date, Length: 25906, dtype: datetime64[ns]"
      ]
     },
     "execution_count": 12,
     "metadata": {},
     "output_type": "execute_result"
    }
   ],
   "source": [
    "oneyear_pd.origination_date"
   ]
  },
  {
   "cell_type": "code",
   "execution_count": 13,
   "id": "80c92b76",
   "metadata": {},
   "outputs": [
    {
     "data": {
      "text/plain": [
       "Index(['id', 'vintage_year', 'monthly_installment', 'loan_balance',\n",
       "       'bureau_score', 'num_bankrupt_iva', 'time_since_bankrupt', 'num_ccj',\n",
       "       'time_since_ccj', 'ccj_amount', 'num_bankrupt', 'num_iva',\n",
       "       'min_months_since_bankrupt', 'pl_flag', 'region', 'ltv',\n",
       "       'arrears_months', 'origination_date', 'maturity_date', 'repayment_type',\n",
       "       'arrears_status', 'arrears_segment', 'mob', 'remaining_mat',\n",
       "       'loan_term', 'live_status', 'repaid_status', 'month', 'arrears_event',\n",
       "       'bankrupt_event', 'term_expiry_event', 'worst_arrears_status',\n",
       "       'max_arrears_12m', 'recent_arrears_date', 'months_since_2mia',\n",
       "       'avg_mia_6m', 'max_arrears_bal_6m', 'max_mia_6m', 'avg_bal_6m',\n",
       "       'avg_bureau_score_6m', 'cc_util', 'annual_income', 'emp_length',\n",
       "       'months_since_recent_cc_delinq'],\n",
       "      dtype='object')"
      ]
     },
     "execution_count": 13,
     "metadata": {},
     "output_type": "execute_result"
    }
   ],
   "source": [
    "oneyear_pd.columns"
   ]
  },
  {
   "cell_type": "code",
   "execution_count": 14,
   "id": "6bdabf4c",
   "metadata": {},
   "outputs": [
    {
     "data": {
      "text/plain": [
       "0        0.000000\n",
       "1        0.000000\n",
       "2        2.188230\n",
       "3        0.000000\n",
       "4        0.000000\n",
       "           ...   \n",
       "25901    0.000000\n",
       "25902    0.987898\n",
       "25903    0.000000\n",
       "25904    0.000000\n",
       "25905    0.000000\n",
       "Name: max_arrears_12m, Length: 25906, dtype: float64"
      ]
     },
     "execution_count": 14,
     "metadata": {},
     "output_type": "execute_result"
    }
   ],
   "source": [
    "oneyear_pd.max_arrears_12m"
   ]
  },
  {
   "cell_type": "code",
   "execution_count": 15,
   "id": "64fb1f7a",
   "metadata": {},
   "outputs": [],
   "source": [
    "oneyear_pd.max_arrears_12m = round(oneyear_pd.max_arrears_12m,4)"
   ]
  },
  {
   "cell_type": "code",
   "execution_count": 16,
   "id": "32ed4904",
   "metadata": {},
   "outputs": [
    {
     "data": {
      "text/plain": [
       "0        0.000000\n",
       "1        0.000000\n",
       "2        2.188230\n",
       "3        0.000000\n",
       "4        0.000000\n",
       "           ...   \n",
       "25901    0.000000\n",
       "25902    0.987898\n",
       "25903    0.000000\n",
       "25904    0.000000\n",
       "25905    0.000000\n",
       "Name: arrears_months, Length: 25906, dtype: float64"
      ]
     },
     "execution_count": 16,
     "metadata": {},
     "output_type": "execute_result"
    }
   ],
   "source": [
    "oneyear_pd.arrears_months"
   ]
  },
  {
   "cell_type": "code",
   "execution_count": 17,
   "id": "0e8d8b87",
   "metadata": {},
   "outputs": [
    {
     "data": {
      "text/plain": [
       "0        0.0000\n",
       "1        0.0000\n",
       "2        2.1882\n",
       "3        0.0000\n",
       "4        0.0000\n",
       "          ...  \n",
       "25901    0.0000\n",
       "25902    0.9879\n",
       "25903    0.0000\n",
       "25904    0.0000\n",
       "25905    0.0000\n",
       "Name: arrears_months, Length: 25906, dtype: float64"
      ]
     },
     "execution_count": 17,
     "metadata": {},
     "output_type": "execute_result"
    }
   ],
   "source": [
    "oneyear_pd.arrears_months = round(oneyear_pd.arrears_months,4)\n",
    "oneyear_pd.arrears_months"
   ]
  },
  {
   "cell_type": "code",
   "execution_count": 18,
   "id": "86dcb82c",
   "metadata": {},
   "outputs": [],
   "source": [
    "# Default definition\n",
    "# Define a function to calculate the 'default_event' column\n",
    "def calculate_default(row):\n",
    "    if row['arrears_event'] == 1 or row['bankrupt_event'] == 1 or row['term_expiry_event'] == 1:\n",
    "        return 1\n",
    "    else:\n",
    "        return 0\n",
    "\n",
    "# Apply the function to create the 'default_event' column\n",
    "oneyear_pd['default_event'] = oneyear_pd.apply(calculate_default, axis=1)"
   ]
  },
  {
   "cell_type": "code",
   "execution_count": 19,
   "id": "d0791cef",
   "metadata": {},
   "outputs": [
    {
     "data": {
      "text/plain": [
       "0.05257469312128465"
      ]
     },
     "execution_count": 19,
     "metadata": {},
     "output_type": "execute_result"
    }
   ],
   "source": [
    "oneyear_pd['default_event'].mean() # "
   ]
  },
  {
   "cell_type": "code",
   "execution_count": 20,
   "id": "e5c31be3",
   "metadata": {},
   "outputs": [
    {
     "data": {
      "image/png": "[encoded data removed]",
      "text/plain": [
       "<Figure size 864x432 with 1 Axes>"
      ]
     },
     "metadata": {
      "needs_background": "light"
     },
     "output_type": "display_data"
    }
   ],
   "source": [
    "# Create a line plot of the mean 'default_event' by 'origination_date'\n",
    "# Extract the year from the 'origination_date'\n",
    "# Extract the year from the 'origination_date'\n",
    "oneyear_pd['origination_year'] = pd.to_datetime(oneyear_pd['origination_date']).dt.year\n",
    "\n",
    "# Create a bar plot of the mean 'default_event' by year\n",
    "plt.figure(figsize=(12, 6))  # Set the figure size\n",
    "sns.barplot(data=oneyear_pd, x='origination_year', y='default_event', ci=None)  # ci=None to remove confidence intervals\n",
    "\n",
    "# Calculate the total mean of 'default_event'\n",
    "total_mean = oneyear_pd['default_event'].mean()\n",
    "\n",
    "# Add a horizontal line for the total mean\n",
    "plt.axhline(total_mean, color='red', linestyle='--', label=f'Mean ({total_mean:.4f})')\n",
    "\n",
    "# Set labels and title\n",
    "plt.xlabel('Origination Year')\n",
    "plt.ylabel('Mean Default Event')\n",
    "plt.title('Mean Default Event by Origination Year')\n",
    "\n",
    "# Show the plot\n",
    "plt.legend()  # Show the legend with the total mean\n",
    "plt.show()"
   ]
  },
  {
   "cell_type": "markdown",
   "id": "d218be20",
   "metadata": {},
   "source": [
    "#### Univariate Analysis"
   ]
  },
  {
   "cell_type": "code",
   "execution_count": 21,
   "id": "2820389b",
   "metadata": {},
   "outputs": [],
   "source": [
    "# Split the dataset into training and testing sets 70% vs 30%\n",
    "train, test = train_test_split(oneyear_pd, test_size=0.3, random_state=42)"
   ]
  },
  {
   "cell_type": "code",
   "execution_count": 22,
   "id": "55d3fb0c",
   "metadata": {},
   "outputs": [],
   "source": [
    "# WOE transform for bureau_score \n",
    "# There could be many different binning schemes, we could try it manually first to understand the processing\n",
    "# Then we could use package such as scorecardpy/woe directly later)\n",
    "\n",
    "# Assign WoE value -0.0910 to rows where 'bureau_score' is NaN\n",
    "train.loc[train['bureau_score'].isna(), 'woe_bureau_score'] = -0.0910\n",
    "# Assign WoE value -0.7994 to rows where 'bureau_score' is less than or equal to 308\n",
    "train.loc[train['bureau_score'] <= 308, 'woe_bureau_score'] = -0.7994\n",
    "# Assign WoE value -0.0545 to rows where 'bureau_score' is greater than 308 and less than or equal to 404\n",
    "train.loc[(train['bureau_score'] > 308) & (train['bureau_score'] <= 404), 'woe_bureau_score'] = -0.0545\n",
    "# Assign WoE value 0.7722 to rows where 'bureau_score' is greater than 404 and less than or equal to 483\n",
    "train.loc[(train['bureau_score'] > 404) & (train['bureau_score'] <= 483), 'woe_bureau_score'] = 0.7722\n",
    "# Assign WoE value 1.0375 to rows where 'bureau_score' is greater than 483\n",
    "train.loc[train['bureau_score'] > 483, 'woe_bureau_score'] = 1.0375"
   ]
  },
  {
   "cell_type": "code",
   "execution_count": 23,
   "id": "10ad6242",
   "metadata": {},
   "outputs": [],
   "source": [
    "# Assign WoE value -0.0910 to rows where 'bureau_score' is NaN\n",
    "test.loc[test['bureau_score'].isna(), 'woe_bureau_score'] = -0.0910\n",
    "# Assign WoE value -0.7994 to rows where 'bureau_score' is less than or equal to 308\n",
    "test.loc[test['bureau_score'] <= 308, 'woe_bureau_score'] = -0.7994\n",
    "# Assign WoE value -0.0545 to rows where 'bureau_score' is greater than 308 and less than or equal to 404\n",
    "test.loc[(test['bureau_score'] > 308) & (test['bureau_score'] <= 404), 'woe_bureau_score'] = -0.0545\n",
    "# Assign WoE value 0.7722 to rows where 'bureau_score' is greater than 404 and less than or equal to 483\n",
    "test.loc[(test['bureau_score'] > 404) & (test['bureau_score'] <= 483), 'woe_bureau_score'] = 0.7722\n",
    "# Assign WoE value 1.0375 to rows where 'bureau_score' is greater than 483\n",
    "test.loc[test['bureau_score'] > 483, 'woe_bureau_score'] = 1.0375"
   ]
  },
  {
   "cell_type": "code",
   "execution_count": 24,
   "id": "a57aca50",
   "metadata": {},
   "outputs": [],
   "source": [
    "# WoE transform for cc_util\n",
    "\n",
    "#train dataframe\n",
    "\n",
    "# Assign WoE value 0 to rows where 'cc_util' is NaN\n",
    "train.loc[train['cc_util'].isna(), 'woe_cc_util'] = 0\n",
    "# Assign WoE value 1.8323 to rows where 'cc_util' is less than or equal to 0.55\n",
    "train.loc[train['cc_util'] <= 0.55, 'woe_cc_util'] = 1.8323\n",
    "# Assign WoE value -0.4867 to rows where 'cc_util' is greater than 0.55 and less than or equal to 0.70\n",
    "train.loc[(train['cc_util'] > 0.55) & (train['cc_util'] <= 0.70), 'woe_cc_util'] = -0.4867\n",
    "# Assign WoE value -1.1623 to rows where 'cc_util' is greater than 0.70 and less than or equal to 0.85\n",
    "train.loc[(train['cc_util'] > 0.70) & (train['cc_util'] <= 0.85), 'woe_cc_util'] = -1.1623\n",
    "# Assign WoE value -2.3562 to rows where 'cc_util' is greater than 0.85\n",
    "train.loc[train['cc_util'] > 0.85, 'woe_cc_util'] = -2.3562\n",
    "\n",
    "# test dataframe\n",
    "\n",
    "# Assign WoE value 0 to rows where 'cc_util' is NaN\n",
    "test.loc[test['cc_util'].isna(), 'woe_cc_util'] = 0\n",
    "# Assign WoE value 1.8323 to rows where 'cc_util' is less than or equal to 0.55\n",
    "test.loc[test['cc_util'] <= 0.55, 'woe_cc_util'] = 1.8323\n",
    "# Assign WoE value -0.4867 to rows where 'cc_util' is greater than 0.55 and less than or equal to 0.70\n",
    "test.loc[(test['cc_util'] > 0.55) & (test['cc_util'] <= 0.70), 'woe_cc_util'] = -0.4867\n",
    "# Assign WoE value -1.1623 to rows where 'cc_util' is greater than 0.70 and less than or equal to 0.85\n",
    "test.loc[(test['cc_util'] > 0.70) & (test['cc_util'] <= 0.85), 'woe_cc_util'] = -1.1623\n",
    "# Assign WoE value -2.3562 to rows where 'cc_util' is greater than 0.85\n",
    "test.loc[test['cc_util'] > 0.85, 'woe_cc_util'] = -2.3562\n"
   ]
  },
  {
   "cell_type": "code",
   "execution_count": 25,
   "id": "698daf58",
   "metadata": {},
   "outputs": [],
   "source": [
    "# num_ccj\n",
    "train.loc[train['num_ccj'].isna(), 'woe_num_ccj'] = -0.0910\n",
    "train.loc[train['num_ccj'] <= 0, 'woe_num_ccj'] = 0.1877\n",
    "train.loc[(train['num_ccj'] > 0) & (train['num_ccj'] <= 1), 'woe_num_ccj'] = -0.9166\n",
    "train.loc[train['num_ccj'] > 1, 'woe_num_ccj'] = -1.1322\n",
    "\n",
    "test.loc[test['num_ccj'].isna(), 'woe_num_ccj'] = -0.0910\n",
    "test.loc[test['num_ccj'] <= 0, 'woe_num_ccj'] = 0.1877\n",
    "test.loc[(test['num_ccj'] > 0) & (test['num_ccj'] <= 1), 'woe_num_ccj'] = -0.9166\n",
    "test.loc[test['num_ccj'] > 1, 'woe_num_ccj'] = -1.1322"
   ]
  },
  {
   "cell_type": "code",
   "execution_count": 26,
   "id": "f16756f7",
   "metadata": {},
   "outputs": [],
   "source": [
    "# max_arrears_12m'\n",
    "train.loc[train['max_arrears_12m'].isna(), 'woe_max_arrears_12m'] = 0\n",
    "train.loc[train['max_arrears_12m'] <= 0, 'woe_max_arrears_12m'] = 0.7027\n",
    "train.loc[(train['max_arrears_12m'] > 0) & (train['max_arrears_12m'] <= 1), 'woe_max_arrears_12m'] = -0.8291\n",
    "train.loc[(train['max_arrears_12m'] > 1) & (train['max_arrears_12m'] <= 1.4), 'woe_max_arrears_12m'] = -1.1908\n",
    "train.loc[train['max_arrears_12m'] > 1.4, 'woe_max_arrears_12m'] = -2.2223\n",
    "\n",
    "test.loc[test['max_arrears_12m'].isna(), 'woe_max_arrears_12m'] = 0\n",
    "test.loc[test['max_arrears_12m'] <= 0, 'woe_max_arrears_12m'] = 0.7027\n",
    "test.loc[(test['max_arrears_12m'] > 0) & (test['max_arrears_12m'] <= 1), 'woe_max_arrears_12m'] = -0.8291\n",
    "test.loc[(test['max_arrears_12m'] > 1) & (test['max_arrears_12m'] <= 1.4), 'woe_max_arrears_12m'] = -1.1908\n",
    "test.loc[test['max_arrears_12m'] > 1.4, 'woe_max_arrears_12m'] = -2.2223\n"
   ]
  },
  {
   "cell_type": "code",
   "execution_count": 27,
   "id": "5744fbec",
   "metadata": {},
   "outputs": [],
   "source": [
    "# max_arrears_bal_6m\n",
    "train.loc[train['max_arrears_bal_6m'].isna(), 'woe_max_arrears_bal_6m'] = 0\n",
    "train.loc[train['max_arrears_bal_6m'] <= 0, 'woe_max_arrears_bal_6m'] = 0.5771\n",
    "train.loc[(train['max_arrears_bal_6m'] > 0) & (train['max_arrears_bal_6m'] <= 300), 'woe_max_arrears_bal_6m'] = -0.7818\n",
    "train.loc[(train['max_arrears_bal_6m'] > 300) & (train['max_arrears_bal_6m'] <= 600), 'woe_max_arrears_bal_6m'] = -1.2958\n",
    "train.loc[(train['max_arrears_bal_6m'] > 600) & (train['max_arrears_bal_6m'] <= 900), 'woe_max_arrears_bal_6m'] = -1.5753\n",
    "train.loc[train['max_arrears_bal_6m'] > 900, 'woe_max_arrears_bal_6m'] = -2.2110\n",
    "\n",
    "test.loc[test['max_arrears_bal_6m'].isna(), 'woe_max_arrears_bal_6m'] = 0\n",
    "test.loc[test['max_arrears_bal_6m'] <= 0, 'woe_max_arrears_bal_6m'] = 0.5771\n",
    "test.loc[(test['max_arrears_bal_6m'] > 0) & (test['max_arrears_bal_6m'] <= 300), 'woe_max_arrears_bal_6m'] = -0.7818\n",
    "test.loc[(test['max_arrears_bal_6m'] > 300) & (test['max_arrears_bal_6m'] <= 600), 'woe_max_arrears_bal_6m'] = -1.2958\n",
    "test.loc[(test['max_arrears_bal_6m'] > 600) & (test['max_arrears_bal_6m'] <= 900), 'woe_max_arrears_bal_6m'] = -1.5753\n",
    "test.loc[test['max_arrears_bal_6m'] > 900, 'woe_max_arrears_bal_6m'] = -2.2110\n"
   ]
  },
  {
   "cell_type": "code",
   "execution_count": 28,
   "id": "2a16f8e4",
   "metadata": {},
   "outputs": [],
   "source": [
    "# Employment length (years)\n",
    "train.loc[train['emp_length'].isna(), 'woe_emp_length'] = 0\n",
    "train.loc[train['emp_length'] <= 2, 'woe_emp_length'] = -0.7514\n",
    "train.loc[(train['emp_length'] > 2) & (train['emp_length'] <= 4), 'woe_emp_length'] = -0.3695\n",
    "train.loc[(train['emp_length'] > 4) & (train['emp_length'] <= 7), 'woe_emp_length'] = 0.1783\n",
    "train.loc[train['emp_length'] > 7, 'woe_emp_length'] = 0.5827\n",
    "\n",
    "test.loc[test['emp_length'].isna(), 'woe_emp_length'] = 0\n",
    "test.loc[test['emp_length'] <= 2, 'woe_emp_length'] = -0.7514\n",
    "test.loc[(test['emp_length'] > 2) & (test['emp_length'] <= 4), 'woe_emp_length'] = -0.3695\n",
    "test.loc[(test['emp_length'] > 4) & (test['emp_length'] <= 7), 'woe_emp_length'] = 0.1783\n",
    "test.loc[test['emp_length'] > 7, 'woe_emp_length'] = 0.5827\n"
   ]
  },
  {
   "cell_type": "code",
   "execution_count": 29,
   "id": "82ef4e4d",
   "metadata": {},
   "outputs": [],
   "source": [
    "# months_since_recent_cc_delinq\n",
    "train.loc[train['months_since_recent_cc_delinq'].isna(), 'woe_months_since_recent_cc_delinq'] = 0\n",
    "train.loc[train['months_since_recent_cc_delinq'] <= 6, 'woe_months_since_recent_cc_delinq'] = -0.4176\n",
    "train.loc[(train['months_since_recent_cc_delinq'] > 6) & (train['months_since_recent_cc_delinq'] <= 11), 'woe_months_since_recent_cc_delinq'] = -0.1942\n",
    "train.loc[train['months_since_recent_cc_delinq'] > 11, 'woe_months_since_recent_cc_delinq'] = 1.3166\n",
    "\n",
    "test['woe_months_since_recent_cc_delinq'] = np.nan\n",
    "test.loc[test['months_since_recent_cc_delinq'].isna(), 'woe_months_since_recent_cc_delinq'] = 0\n",
    "test.loc[test['months_since_recent_cc_delinq'] <= 6, 'woe_months_since_recent_cc_delinq'] = -0.4176\n",
    "test.loc[(test['months_since_recent_cc_delinq'] > 6) & (test['months_since_recent_cc_delinq'] <= 11), 'woe_months_since_recent_cc_delinq'] = -0.1942\n",
    "test.loc[test['months_since_recent_cc_delinq'] > 11, 'woe_months_since_recent_cc_delinq'] = 1.3166"
   ]
  },
  {
   "cell_type": "code",
   "execution_count": 30,
   "id": "97948b09",
   "metadata": {},
   "outputs": [],
   "source": [
    "# annual_income\n",
    "train.loc[train['annual_income'].isna(), 'woe_annual_income'] = 0\n",
    "train.loc[train['annual_income'] <= 35064, 'woe_annual_income'] = -1.8243\n",
    "train.loc[(train['annual_income'] > 35064) & (train['annual_income'] <= 41999), 'woe_annual_income'] = -0.8272\n",
    "train.loc[(train['annual_income'] > 41999) & (train['annual_income'] <= 50111), 'woe_annual_income'] = -0.3294\n",
    "train.loc[(train['annual_income'] > 50111) & (train['annual_income'] <= 65050), 'woe_annual_income'] = 0.2379\n",
    "train.loc[train['annual_income'] > 65050, 'woe_annual_income'] = 0.6234\n",
    "\n",
    "test.loc[test['annual_income'].isna(), 'woe_annual_income'] = 0\n",
    "test.loc[test['annual_income'] <= 35064, 'woe_annual_income'] = -1.8243\n",
    "test.loc[(test['annual_income'] > 35064) & (test['annual_income'] <= 41999), 'woe_annual_income'] = -0.8272\n",
    "test.loc[(test['annual_income'] > 41999) & (test['annual_income'] <= 50111), 'woe_annual_income'] = -0.3294\n",
    "test.loc[(test['annual_income'] > 50111) & (test['annual_income'] <= 65050), 'woe_annual_income'] = 0.2379\n",
    "test.loc[test['annual_income'] > 65050, 'woe_annual_income'] = 0.6234"
   ]
  },
  {
   "cell_type": "code",
   "execution_count": 31,
   "id": "3bdf0348",
   "metadata": {},
   "outputs": [
    {
     "name": "stdout",
     "output_type": "stream",
     "text": [
      "<class 'pandas.core.frame.DataFrame'>\n",
      "Int64Index: 18134 entries, 21739 to 23654\n",
      "Data columns (total 54 columns):\n",
      " #   Column                             Non-Null Count  Dtype         \n",
      "---  ------                             --------------  -----         \n",
      " 0   id                                 18134 non-null  int64         \n",
      " 1   vintage_year                       18134 non-null  int64         \n",
      " 2   monthly_installment                18134 non-null  float64       \n",
      " 3   loan_balance                       18134 non-null  float64       \n",
      " 4   bureau_score                       17846 non-null  float64       \n",
      " 5   num_bankrupt_iva                   17846 non-null  float64       \n",
      " 6   time_since_bankrupt                17846 non-null  float64       \n",
      " 7   num_ccj                            17846 non-null  float64       \n",
      " 8   time_since_ccj                     17846 non-null  float64       \n",
      " 9   ccj_amount                         17846 non-null  float64       \n",
      " 10  num_bankrupt                       17846 non-null  float64       \n",
      " 11  num_iva                            17846 non-null  float64       \n",
      " 12  min_months_since_bankrupt          17846 non-null  float64       \n",
      " 13  pl_flag                            18134 non-null  int64         \n",
      " 14  region                             18133 non-null  object        \n",
      " 15  ltv                                18134 non-null  float64       \n",
      " 16  arrears_months                     18134 non-null  float64       \n",
      " 17  origination_date                   18134 non-null  datetime64[ns]\n",
      " 18  maturity_date                      18134 non-null  object        \n",
      " 19  repayment_type                     18134 non-null  object        \n",
      " 20  arrears_status                     18134 non-null  int64         \n",
      " 21  arrears_segment                    18134 non-null  int64         \n",
      " 22  mob                                18134 non-null  int64         \n",
      " 23  remaining_mat                      18134 non-null  int64         \n",
      " 24  loan_term                          18134 non-null  int64         \n",
      " 25  live_status                        18134 non-null  int64         \n",
      " 26  repaid_status                      18134 non-null  int64         \n",
      " 27  month                              18134 non-null  int64         \n",
      " 28  arrears_event                      18134 non-null  int64         \n",
      " 29  bankrupt_event                     18134 non-null  int64         \n",
      " 30  term_expiry_event                  18134 non-null  int64         \n",
      " 31  worst_arrears_status               18134 non-null  int64         \n",
      " 32  max_arrears_12m                    18134 non-null  float64       \n",
      " 33  recent_arrears_date                565 non-null    object        \n",
      " 34  months_since_2mia                  565 non-null    float64       \n",
      " 35  avg_mia_6m                         18131 non-null  float64       \n",
      " 36  max_arrears_bal_6m                 18131 non-null  float64       \n",
      " 37  max_mia_6m                         18131 non-null  float64       \n",
      " 38  avg_bal_6m                         18131 non-null  float64       \n",
      " 39  avg_bureau_score_6m                17868 non-null  float64       \n",
      " 40  cc_util                            18134 non-null  float64       \n",
      " 41  annual_income                      18134 non-null  int64         \n",
      " 42  emp_length                         18134 non-null  int64         \n",
      " 43  months_since_recent_cc_delinq      18134 non-null  int64         \n",
      " 44  default_event                      18134 non-null  int64         \n",
      " 45  origination_year                   18134 non-null  int64         \n",
      " 46  woe_bureau_score                   18134 non-null  float64       \n",
      " 47  woe_cc_util                        18134 non-null  float64       \n",
      " 48  woe_num_ccj                        18134 non-null  float64       \n",
      " 49  woe_max_arrears_12m                18134 non-null  float64       \n",
      " 50  woe_max_arrears_bal_6m             18134 non-null  float64       \n",
      " 51  woe_emp_length                     18134 non-null  float64       \n",
      " 52  woe_months_since_recent_cc_delinq  18134 non-null  float64       \n",
      " 53  woe_annual_income                  18134 non-null  float64       \n",
      "dtypes: datetime64[ns](1), float64(29), int64(20), object(4)\n",
      "memory usage: 7.6+ MB\n"
     ]
    }
   ],
   "source": [
    "train.info()"
   ]
  },
  {
   "cell_type": "code",
   "execution_count": 32,
   "id": "65c2d837",
   "metadata": {},
   "outputs": [
    {
     "name": "stdout",
     "output_type": "stream",
     "text": [
      "Requirement already satisfied: scorecardpy in /opt/anaconda3/lib/python3.9/site-packages (0.1.9.7)\n",
      "Requirement already satisfied: statsmodels in /opt/anaconda3/lib/python3.9/site-packages (from scorecardpy) (0.13.2)\n",
      "Requirement already satisfied: numpy in /opt/anaconda3/lib/python3.9/site-packages (from scorecardpy) (1.21.5)\n",
      "Requirement already satisfied: matplotlib in /opt/anaconda3/lib/python3.9/site-packages (from scorecardpy) (3.5.1)\n",
      "Requirement already satisfied: scikit-learn>=0.19.1 in /opt/anaconda3/lib/python3.9/site-packages (from scorecardpy) (1.0.2)\n",
      "Requirement already satisfied: patsy in /opt/anaconda3/lib/python3.9/site-packages (from scorecardpy) (0.5.2)\n",
      "Requirement already satisfied: pandas>=1.0.0 in /opt/anaconda3/lib/python3.9/site-packages (from scorecardpy) (1.4.2)\n",
      "Requirement already satisfied: python-dateutil>=2.8.1 in /opt/anaconda3/lib/python3.9/site-packages (from pandas>=1.0.0->scorecardpy) (2.8.2)\n",
      "Requirement already satisfied: pytz>=2020.1 in /opt/anaconda3/lib/python3.9/site-packages (from pandas>=1.0.0->scorecardpy) (2021.3)\n",
      "Requirement already satisfied: six>=1.5 in /opt/anaconda3/lib/python3.9/site-packages (from python-dateutil>=2.8.1->pandas>=1.0.0->scorecardpy) (1.16.0)\n",
      "Requirement already satisfied: threadpoolctl>=2.0.0 in /opt/anaconda3/lib/python3.9/site-packages (from scikit-learn>=0.19.1->scorecardpy) (2.2.0)\n",
      "Requirement already satisfied: scipy>=1.1.0 in /opt/anaconda3/lib/python3.9/site-packages (from scikit-learn>=0.19.1->scorecardpy) (1.7.3)\n",
      "Requirement already satisfied: joblib>=0.11 in /opt/anaconda3/lib/python3.9/site-packages (from scikit-learn>=0.19.1->scorecardpy) (1.1.0)\n",
      "Requirement already satisfied: fonttools>=4.22.0 in /opt/anaconda3/lib/python3.9/site-packages (from matplotlib->scorecardpy) (4.25.0)\n",
      "Requirement already satisfied: cycler>=0.10 in /opt/anaconda3/lib/python3.9/site-packages (from matplotlib->scorecardpy) (0.11.0)\n",
      "Requirement already satisfied: packaging>=20.0 in /opt/anaconda3/lib/python3.9/site-packages (from matplotlib->scorecardpy) (21.3)\n",
      "Requirement already satisfied: pillow>=6.2.0 in /opt/anaconda3/lib/python3.9/site-packages (from matplotlib->scorecardpy) (9.0.1)\n",
      "Requirement already satisfied: pyparsing>=2.2.1 in /opt/anaconda3/lib/python3.9/site-packages (from matplotlib->scorecardpy) (3.0.4)\n",
      "Requirement already satisfied: kiwisolver>=1.0.1 in /opt/anaconda3/lib/python3.9/site-packages (from matplotlib->scorecardpy) (1.3.2)\n",
      "Note: you may need to restart the kernel to use updated packages.\n"
     ]
    }
   ],
   "source": [
    "pip install scorecardpy"
   ]
  },
  {
   "cell_type": "code",
   "execution_count": 33,
   "id": "ebf69494",
   "metadata": {},
   "outputs": [
    {
     "name": "stdout",
     "output_type": "stream",
     "text": [
      "Requirement already satisfied: woe in /opt/anaconda3/lib/python3.9/site-packages (0.1.4)\n",
      "Requirement already satisfied: pandas>=0.19.2 in /opt/anaconda3/lib/python3.9/site-packages (from woe) (1.4.2)\n",
      "Requirement already satisfied: scipy>=0.18.1 in /opt/anaconda3/lib/python3.9/site-packages (from woe) (1.7.3)\n",
      "Requirement already satisfied: numpy>=1.11.3 in /opt/anaconda3/lib/python3.9/site-packages (from woe) (1.21.5)\n",
      "Requirement already satisfied: matplotlib>=2.0.0 in /opt/anaconda3/lib/python3.9/site-packages (from woe) (3.5.1)\n",
      "Requirement already satisfied: fonttools>=4.22.0 in /opt/anaconda3/lib/python3.9/site-packages (from matplotlib>=2.0.0->woe) (4.25.0)\n",
      "Requirement already satisfied: pillow>=6.2.0 in /opt/anaconda3/lib/python3.9/site-packages (from matplotlib>=2.0.0->woe) (9.0.1)\n",
      "Requirement already satisfied: python-dateutil>=2.7 in /opt/anaconda3/lib/python3.9/site-packages (from matplotlib>=2.0.0->woe) (2.8.2)\n",
      "Requirement already satisfied: cycler>=0.10 in /opt/anaconda3/lib/python3.9/site-packages (from matplotlib>=2.0.0->woe) (0.11.0)\n",
      "Requirement already satisfied: packaging>=20.0 in /opt/anaconda3/lib/python3.9/site-packages (from matplotlib>=2.0.0->woe) (21.3)\n",
      "Requirement already satisfied: kiwisolver>=1.0.1 in /opt/anaconda3/lib/python3.9/site-packages (from matplotlib>=2.0.0->woe) (1.3.2)\n",
      "Requirement already satisfied: pyparsing>=2.2.1 in /opt/anaconda3/lib/python3.9/site-packages (from matplotlib>=2.0.0->woe) (3.0.4)\n",
      "Requirement already satisfied: pytz>=2020.1 in /opt/anaconda3/lib/python3.9/site-packages (from pandas>=0.19.2->woe) (2021.3)\n",
      "Requirement already satisfied: six>=1.5 in /opt/anaconda3/lib/python3.9/site-packages (from python-dateutil>=2.7->matplotlib>=2.0.0->woe) (1.16.0)\n",
      "Note: you may need to restart the kernel to use updated packages.\n"
     ]
    }
   ],
   "source": [
    "pip install woe"
   ]
  },
  {
   "cell_type": "code",
   "execution_count": 34,
   "id": "4a23f92c",
   "metadata": {},
   "outputs": [
    {
     "name": "stdout",
     "output_type": "stream",
     "text": [
      "                            variable  info_value\n",
      "1                        woe_cc_util    1.890697\n",
      "3             woe_max_arrears_bal_6m    0.889556\n",
      "6                  woe_annual_income    0.519880\n",
      "0                   woe_bureau_score    0.498704\n",
      "5  woe_months_since_recent_cc_delinq    0.416614\n",
      "4                     woe_emp_length    0.178858\n",
      "2                        woe_num_ccj    0.143283\n"
     ]
    }
   ],
   "source": [
    "import scorecardpy as sc\n",
    "\n",
    "# Perform IV analysis\n",
    "features_to_analyze = ['woe_bureau_score', 'woe_cc_util', 'woe_num_ccj',\n",
    "       'woe_max_arrears_bal_6m', 'woe_emp_length',\n",
    "       'woe_months_since_recent_cc_delinq', 'woe_annual_income']\n",
    "iv_df = sc.iv(train, y='default_event', x=features_to_analyze)\n",
    "\n",
    "# Print IV values\n",
    "print(iv_df)"
   ]
  },
  {
   "cell_type": "code",
   "execution_count": 35,
   "id": "5722be0f",
   "metadata": {},
   "outputs": [
    {
     "name": "stdout",
     "output_type": "stream",
     "text": [
      "                         variable  info_value\n",
      "29                max_arrears_12m    2.378823\n",
      "16                 arrears_months    2.038999\n",
      "33             max_arrears_bal_6m    1.793611\n",
      "9                      ccj_amount    1.538633\n",
      "4                    bureau_score    0.996283\n",
      "20                 arrears_status    0.934574\n",
      "36            avg_bureau_score_6m    0.895083\n",
      "28           worst_arrears_status    0.876124\n",
      "21                arrears_segment    0.863283\n",
      "34                     max_mia_6m    0.739653\n",
      "30            recent_arrears_date    0.738107\n",
      "31              months_since_2mia    0.738107\n",
      "17               origination_date    0.714176\n",
      "40  months_since_recent_cc_delinq    0.699041\n",
      "18                  maturity_date    0.691178\n",
      "23                  remaining_mat    0.676257\n",
      "37                        cc_util    0.416350\n",
      "32                     avg_mia_6m    0.377131\n",
      "15                            ltv    0.356203\n",
      "24                      loan_term    0.316478\n",
      "8                  time_since_ccj    0.234148\n",
      "39                     emp_length    0.223588\n",
      "2             monthly_installment    0.196496\n",
      "22                            mob    0.175035\n",
      "7                         num_ccj    0.154532\n",
      "6             time_since_bankrupt    0.096069\n",
      "38                  annual_income    0.095358\n",
      "12      min_months_since_bankrupt    0.081247\n",
      "35                     avg_bal_6m    0.068986\n",
      "19                 repayment_type    0.024185\n",
      "14                         region    0.018165\n",
      "5                num_bankrupt_iva    0.017187\n",
      "11                        num_iva    0.016372\n",
      "41               origination_year    0.010608\n",
      "1                    vintage_year    0.010608\n",
      "3                    loan_balance    0.003428\n",
      "0                              id    0.002137\n",
      "13                        pl_flag    0.001517\n",
      "10                   num_bankrupt    0.001039\n",
      "27                          month    0.000000\n",
      "26                  repaid_status    0.000000\n",
      "25                    live_status    0.000000\n"
     ]
    }
   ],
   "source": [
    "# Perform IV analysis\n",
    "features_to_analyze = ['id', 'vintage_year', 'monthly_installment', 'loan_balance',\n",
    "       'bureau_score', 'num_bankrupt_iva', 'time_since_bankrupt',\n",
    "       'num_ccj', 'time_since_ccj', 'ccj_amount', 'num_bankrupt',\n",
    "       'num_iva', 'min_months_since_bankrupt', 'pl_flag', 'region', 'ltv',\n",
    "       'arrears_months', 'origination_date', 'maturity_date',\n",
    "       'repayment_type', 'arrears_status', 'arrears_segment', 'mob',\n",
    "       'remaining_mat', 'loan_term', 'live_status', 'repaid_status',\n",
    "       'month', 'worst_arrears_status', 'max_arrears_12m', 'recent_arrears_date',\n",
    "       'months_since_2mia', 'avg_mia_6m', 'max_arrears_bal_6m',\n",
    "       'max_mia_6m', 'avg_bal_6m', 'avg_bureau_score_6m', 'cc_util',\n",
    "       'annual_income', 'emp_length', 'months_since_recent_cc_delinq',\n",
    "       'origination_year']\n",
    "iv_df_1 = sc.iv(train, y='default_event', x=features_to_analyze)\n",
    "\n",
    "# Print IV values\n",
    "print(iv_df_1)"
   ]
  },
  {
   "cell_type": "code",
   "execution_count": 38,
   "id": "58451420",
   "metadata": {},
   "outputs": [
    {
     "data": {
      "text/plain": [
       "LogisticRegression(random_state=42)"
      ]
     },
     "execution_count": 38,
     "metadata": {},
     "output_type": "execute_result"
    }
   ],
   "source": [
    "# Try logistic model with WoE \n",
    "\n",
    "logistic_model = LogisticRegression(random_state=42)\n",
    "X_train = train[['woe_bureau_score', 'woe_cc_util', 'woe_num_ccj',\n",
    "       'woe_max_arrears_bal_6m', 'woe_emp_length',\n",
    "       'woe_months_since_recent_cc_delinq', 'woe_annual_income']]\n",
    "y_train = train['default_event']\n",
    "X_test =  test[['woe_bureau_score', 'woe_cc_util', 'woe_num_ccj',\n",
    "       'woe_max_arrears_bal_6m', 'woe_emp_length',\n",
    "       'woe_months_since_recent_cc_delinq', 'woe_annual_income']]\n",
    "y_test = test['default_event']\n",
    "logistic_model.fit(X_train, y_train)"
   ]
  },
  {
   "cell_type": "code",
   "execution_count": 39,
   "id": "d275fb10",
   "metadata": {},
   "outputs": [],
   "source": [
    "y_pred = logistic_model.predict(X_test)"
   ]
  },
  {
   "cell_type": "code",
   "execution_count": 40,
   "id": "9be6b446",
   "metadata": {},
   "outputs": [
    {
     "name": "stdout",
     "output_type": "stream",
     "text": [
      "Accuracy: 0.9557385486361297\n",
      "Confusion Matrix:\n",
      "[[7277   51]\n",
      " [ 293  151]]\n",
      "Classification Report:\n",
      "              precision    recall  f1-score   support\n",
      "\n",
      "           0       0.96      0.99      0.98      7328\n",
      "           1       0.75      0.34      0.47       444\n",
      "\n",
      "    accuracy                           0.96      7772\n",
      "   macro avg       0.85      0.67      0.72      7772\n",
      "weighted avg       0.95      0.96      0.95      7772\n",
      "\n"
     ]
    }
   ],
   "source": [
    "accuracy = accuracy_score(y_test, y_pred)\n",
    "conf_matrix = confusion_matrix(y_test, y_pred)\n",
    "class_report = classification_report(y_test, y_pred)\n",
    "\n",
    "print(f'Accuracy: {accuracy}')\n",
    "print(f'Confusion Matrix:\\n{conf_matrix}')\n",
    "print(f'Classification Report:\\n{class_report}')\n"
   ]
  },
  {
   "cell_type": "markdown",
   "id": "24b9fc2c",
   "metadata": {},
   "source": [
    "### Lifetime PD\n",
    "\n",
    "- Data preparation\n",
    "- GLM modeling\n",
    "- Survival Modeling\n",
    "- Transition Matrix Modeling"
   ]
  },
  {
   "cell_type": "code",
   "execution_count": 6,
   "id": "320e1439",
   "metadata": {},
   "outputs": [
    {
     "name": "stdout",
     "output_type": "stream",
     "text": [
      "(42442, 34)\n",
      "        id report_date  year  quarter  month    balance origination_date  \\\n",
      "0  1002023  2003-03-31  2003        1      3   41304.36       2001-07-26   \n",
      "1  1002023  2003-06-30  2003        2      6   40287.72       2001-07-26   \n",
      "2  1002023  2003-09-30  2003        3      9   39252.42       2001-07-26   \n",
      "3  1002023  2003-12-31  2003        4     12   38214.28       2001-07-26   \n",
      "4  1002920  2008-06-30  2008        2      6  108395.53       2008-04-29   \n",
      "\n",
      "  maturity_date repayment_type  loan_term  ...    gdp  uer  cpi     hpi    ir  \\\n",
      "0    2011-07-26      Repayment        120  ...  3.221  5.2  1.5  25.108  4.32   \n",
      "1    2011-07-26      Repayment        120  ...  3.397  4.9  1.3  22.336  4.28   \n",
      "2    2011-07-26      Repayment        120  ...  3.644  5.0  1.4  18.882  4.57   \n",
      "3    2011-07-26      Repayment        120  ...  3.597  4.9  1.3  16.817  4.92   \n",
      "4    2033-04-29  Interest Only        300  ...  1.005  5.3  3.4  -5.192  4.87   \n",
      "\n",
      "    gdp_lag  uer_lag  cpi_lag    hpi_lag  ltv_utd  \n",
      "0  2.201254      5.2      1.5  14.356436       55  \n",
      "1  2.247030      5.2      0.9  17.026379       55  \n",
      "2  2.326796      5.3      1.0  20.138889       56  \n",
      "3  2.808608      5.1      1.5  24.269663       58  \n",
      "4  2.266000      5.4      2.6  10.612000       53  \n",
      "\n",
      "[5 rows x 34 columns]\n",
      "Index(['id', 'report_date', 'year', 'quarter', 'month', 'balance',\n",
      "       'origination_date', 'maturity_date', 'repayment_type', 'loan_term',\n",
      "       'vintage_year', 'mob', 'remaining_term', 'bureau_score_orig',\n",
      "       'default_flag', 'loan_status', 'default_ind', 'tob', 'first_time',\n",
      "       'last_time', 'num_periods', 'start_time', 'end_time', 'income', 'gdp',\n",
      "       'uer', 'cpi', 'hpi', 'ir', 'gdp_lag', 'uer_lag', 'cpi_lag', 'hpi_lag',\n",
      "       'ltv_utd'],\n",
      "      dtype='object')\n"
     ]
    }
   ],
   "source": [
    "lifetime_pd = pd.read_csv(\"lifetime_pd.csv\")\n",
    "print(lifetime_pd.shape) # 42442 records\n",
    "print(lifetime_pd.head())\n",
    "print(lifetime_pd.columns)"
   ]
  },
  {
   "cell_type": "markdown",
   "id": "481b6c13",
   "metadata": {},
   "source": [
    "### LGD Modeling\n",
    "- LGD data preparation\n",
    "- LGD micro-structure approach\n",
    "- LGD Regression methods\n"
   ]
  },
  {
   "cell_type": "code",
   "execution_count": 41,
   "id": "f6b589cf",
   "metadata": {},
   "outputs": [
    {
     "name": "stdout",
     "output_type": "stream",
     "text": [
      "(430, 14)\n",
      "  new_loan_id  balance_at_default  shortfall  flag_sold  net_sale_proceeds  \\\n",
      "0      N11901           170203.44   24385.20          1          152990.38   \n",
      "1      N11902            60368.09   40210.91          1           29237.60   \n",
      "2      N11903           207838.69   56582.39          1          156550.00   \n",
      "3      N11904            73736.79   62337.83          1           17373.07   \n",
      "4      N11905           132064.54     526.52          1          127810.00   \n",
      "\n",
      "   balance_at_wo   ltv_utd  index_value_new  time_since_default  \\\n",
      "0      177375.58  0.448436        271673.43                  72   \n",
      "1       69448.51  0.838799         64880.89                  72   \n",
      "2      213132.39  0.522509        233595.34                  72   \n",
      "3       79710.90  1.231607         60396.20                  72   \n",
      "4      128336.52  0.400000        126315.47                  72   \n",
      "\n",
      "  repayment_type_segment  tob  months_to_maturity region  shortfall_balance_wo  \n",
      "0                     IO  164                 136    r_a               0.13748  \n",
      "1                 Non-IO  140                 160  other               0.57900  \n",
      "2                     IO  130                 170    r_b               0.26548  \n",
      "3                     IO  115                 125    r_e               0.78205  \n",
      "4                     IO  118                 134    r_a               0.00410  \n",
      "Index(['new_loan_id', 'balance_at_default', 'shortfall', 'flag_sold',\n",
      "       'net_sale_proceeds', 'balance_at_wo', 'ltv_utd', 'index_value_new',\n",
      "       'time_since_default', 'repayment_type_segment', 'tob',\n",
      "       'months_to_maturity', 'region', 'shortfall_balance_wo'],\n",
      "      dtype='object')\n"
     ]
    }
   ],
   "source": [
    "lgd = pd.read_csv(\"lgd.csv\")\n",
    "print(lgd.shape)\n",
    "print(lgd.head())\n",
    "print(lgd.columns)"
   ]
  },
  {
   "cell_type": "markdown",
   "id": "c19ffae8",
   "metadata": {},
   "source": [
    "### Prepayment, Competing Risks and EAD Modeling\n",
    "- Data preparation\n",
    "- Full prepayment modeling\n",
    "- Competing risk modeling\n",
    "- EAD modeling\n"
   ]
  },
  {
   "cell_type": "code",
   "execution_count": 42,
   "id": "2872c5d5",
   "metadata": {},
   "outputs": [
    {
     "name": "stdout",
     "output_type": "stream",
     "text": [
      "(37346, 25)\n",
      "   X       id report_date  year  quarter  month   balance origination_date  \\\n",
      "0  1  1000170  2004-03-31  2004        1      3  44576.69       1999-09-17   \n",
      "1  2  1000170  2004-06-30  2004        2      6  44145.22       1999-09-17   \n",
      "2  3  1000170  2004-09-30  2004        3      9  43714.65       1999-09-17   \n",
      "3  4  1000170  2004-12-31  2004        4     12  43276.97       1999-09-17   \n",
      "4  5  1000170  2005-03-31  2005        1      3  42816.81       1999-09-17   \n",
      "\n",
      "  maturity_date  loan_term  ...  part_prep_flag    gdp  uer  cpi     hpi  \\\n",
      "0    2019-09-17        240  ...               0  3.332  4.8  1.3  17.301   \n",
      "1    2019-09-17        240  ...               0  2.890  4.8  1.4  19.598   \n",
      "2    2019-09-17        240  ...               0  2.069  4.7  1.3  19.287   \n",
      "3    2019-09-17        240  ...               0  1.844  4.7  1.4  14.396   \n",
      "4    2019-09-17        240  ...               0  1.859  4.7  1.7   9.882   \n",
      "\n",
      "     ir  multi_flag  pp_new  fppp_perc  ltv_utd  \n",
      "0  4.73           0     0.0        0.0       58  \n",
      "1  5.04           0     0.0        0.0       57  \n",
      "2  4.95           0     0.0        0.0       56  \n",
      "3  4.62           0     0.0        0.0       55  \n",
      "4  4.60           0     0.0        0.0       55  \n",
      "\n",
      "[5 rows x 25 columns]\n",
      "Index(['X', 'id', 'report_date', 'year', 'quarter', 'month', 'balance',\n",
      "       'origination_date', 'maturity_date', 'loan_term', 'vintage_year', 'tob',\n",
      "       'remaining_term', 'default_flag', 'prep_flag', 'part_prep_flag', 'gdp',\n",
      "       'uer', 'cpi', 'hpi', 'ir', 'multi_flag', 'pp_new', 'fppp_perc',\n",
      "       'ltv_utd'],\n",
      "      dtype='object')\n"
     ]
    }
   ],
   "source": [
    "prepay= pd.read_csv(\"bal_prep.csv\")\n",
    "print(prepay.shape) # 37346 records\n",
    "print(prepay.head())\n",
    "print(prepay.columns)"
   ]
  },
  {
   "cell_type": "code",
   "execution_count": 43,
   "id": "a35b84c8",
   "metadata": {},
   "outputs": [
    {
     "name": "stdout",
     "output_type": "stream",
     "text": [
      "(366, 14)\n",
      "       id report_date  year    balance  default_flag    gdp  uer  cpi     hpi  \\\n",
      "0  335679  2008-09-30  2008   89182.01             1 -1.449  5.9  4.8 -11.483   \n",
      "1  342540  2008-06-30  2008  291269.44             1  1.005  5.3  3.4  -5.192   \n",
      "2  343423  2011-03-31  2011  177314.43             1  2.262  7.8  4.1  -1.533   \n",
      "3  346117  2004-12-31  2004  109932.69             1  1.844  4.7  1.4  14.396   \n",
      "4  358929  2007-03-31  2007   66443.00             1  1.751  5.5  2.9  10.433   \n",
      "\n",
      "     ir  uti_def_orig   uti_def   uti_ini  ccf_ratio  \n",
      "0  4.75      0.371927  0.371927  0.166529   2.233406  \n",
      "1  4.87      0.288527  0.288527  0.483252   0.597053  \n",
      "2  3.89      0.736082  0.736082  0.210035   3.504565  \n",
      "3  4.62      0.490713  0.490713  0.210162   2.334927  \n",
      "4  4.75      0.478016  0.478016  0.187626   2.547710  \n",
      "Index(['id', 'report_date', 'year', 'balance', 'default_flag', 'gdp', 'uer',\n",
      "       'cpi', 'hpi', 'ir', 'uti_def_orig', 'uti_def', 'uti_ini', 'ccf_ratio'],\n",
      "      dtype='object')\n"
     ]
    }
   ],
   "source": [
    "ead = pd.read_csv(\"ead.csv\")\n",
    "print(ead.shape) # 366 records\n",
    "print(ead.head())\n",
    "print(ead.columns)"
   ]
  },
  {
   "cell_type": "markdown",
   "id": "b57ef698",
   "metadata": {},
   "source": [
    "### Scenario Analysis and CECL \n",
    "- Data preparation\n",
    "- Scenario Analysis\n",
    "- CECL Computation and valuatation"
   ]
  },
  {
   "cell_type": "code",
   "execution_count": 44,
   "id": "750f21eb",
   "metadata": {},
   "outputs": [
    {
     "name": "stdout",
     "output_type": "stream",
     "text": [
      "(54, 7)\n",
      "     DATE    LN_GDP    LN_CPI     LN_EQ     LN_FX      IR_S      IR_L\n",
      "0  1999Q4  4.584177  4.584590  3.750966 -5.069477  0.012903  0.011275\n",
      "1  2000Q1  4.595223  4.593452  3.740157 -5.070681  0.014103  0.011474\n",
      "2  2000Q2  4.602494  4.603311  3.720306 -5.027500  0.014347  0.011363\n",
      "3  2000Q3  4.608425  4.608944  3.741641 -4.999077  0.014111  0.011594\n",
      "4  2000Q4  4.614437  4.614893  3.709038 -4.987262  0.013819  0.011315\n",
      "5  2001Q1  4.623570  4.616626  3.664815 -4.987400  0.013132  0.011116\n",
      "6  2001Q2  4.624728  4.621873  3.628357 -4.978310  0.012269  0.012134\n",
      "7  2001Q3  4.630711  4.626059  3.510211 -4.998041  0.011530  0.012015\n",
      "8  2001Q4  4.634632  4.625188  3.513670 -4.992250  0.009621  0.011450\n",
      "9  2002Q1  4.639813  4.628679  3.517691 -4.978993  0.009541  0.011999\n",
      "Index(['DATE', 'LN_GDP', 'LN_CPI', 'LN_EQ', 'LN_FX', 'IR_S', 'IR_L'], dtype='object')\n"
     ]
    }
   ],
   "source": [
    "macrov = pd.read_csv(\"macrov.csv\")\n",
    "print(macrov.shape) # 54 records\n",
    "print(macrov.head(10))\n",
    "print(macrov.columns)"
   ]
  },
  {
   "cell_type": "markdown",
   "id": "7a56211d",
   "metadata": {},
   "source": [
    "### Conclusions\n",
    "\n",
    "\n",
    "\n",
    "-\n",
    "-\n"
   ]
  },
  {
   "cell_type": "markdown",
   "id": "d737d9a3",
   "metadata": {},
   "source": [
    "#### References: https://www.tizianobellini.com/\n"
   ]
  },
  {
   "cell_type": "code",
   "execution_count": null,
   "id": "3fed10b9",
   "metadata": {},
   "outputs": [],
   "source": []
  }
 ],
 "metadata": {
  "kernelspec": {
   "display_name": "Python 3 (ipykernel)",
   "language": "python",
   "name": "python3"
  },
  "language_info": {
   "codemirror_mode": {
    "name": "ipython",
    "version": 3
   },
   "file_extension": ".py",
   "mimetype": "text/x-python",
   "name": "python",
   "nbconvert_exporter": "python",
   "pygments_lexer": "ipython3",
   "version": "3.9.12"
  }
 },
 "nbformat": 4,
 "nbformat_minor": 5
}
